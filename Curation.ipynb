{
 "cells": [
  {
   "cell_type": "markdown",
   "metadata": {},
   "source": [
    "# File I/O"
   ]
  },
  {
   "cell_type": "markdown",
   "metadata": {},
   "source": [
    "### 27. Reduce Whitespace"
   ]
  },
  {
   "cell_type": "code",
   "execution_count": null,
   "metadata": {
    "collapsed": true
   },
   "outputs": [],
   "source": [
    "fh = open('./White.txt', 'r')     # File Handler Creation\n",
    "st = fh.readline()                    # Reading it as string\n",
    "print(st)\n",
    "\n",
    "def reduceWhite(string):\n",
    "    \n",
    "    for i in string.split():              # Spliting the string and printing with appropriate white spaces\n",
    "        print(i, end = ' ')"
   ]
  },
  {
   "cell_type": "code",
   "execution_count": null,
   "metadata": {
    "collapsed": true
   },
   "outputs": [],
   "source": [
    "reduceWhite(st)                #function call"
   ]
  },
  {
   "cell_type": "markdown",
   "metadata": {},
   "source": [
    "### 28. Matching Quotes"
   ]
  },
  {
   "cell_type": "code",
   "execution_count": null,
   "metadata": {
    "collapsed": true
   },
   "outputs": [],
   "source": [
    "fh = open('./White.txt', 'r')     # File Handler Creation\n",
    "st = fh.read()                    # Reading it as string\n",
    "\n",
    "lyst = []                        # Empty list for quotes\n",
    "\n",
    "def quote(string):\n",
    "    for i in string:                                      # iterating through the string\n",
    "    \n",
    "        if i == '\"' or i == \"'\" or i == '`':         # selecting quotes and appending in list\n",
    "            lyst.append(i)\n",
    "        \n",
    "# counting each type of qoutes        \n",
    "    count1 = lyst.count('\"')                        \n",
    "    count2 = lyst.count(\"'\")\n",
    "    count3 = lyst.count('`')\n",
    "\n",
    "    if count1%2 == 0 and count2%2 == 0 and count3%2 == 0:               #if number of quote is even then true\n",
    "        print(\"TRUE\")\n",
    "    else:\n",
    "        print(\"False\")"
   ]
  },
  {
   "cell_type": "code",
   "execution_count": null,
   "metadata": {
    "collapsed": true
   },
   "outputs": [],
   "source": [
    "quote(st)"
   ]
  },
  {
   "cell_type": "markdown",
   "metadata": {},
   "source": [
    "### 29. Case Study"
   ]
  },
  {
   "cell_type": "code",
   "execution_count": null,
   "metadata": {
    "collapsed": true
   },
   "outputs": [],
   "source": [
    "fh = open(\"./ml-1m/movies.dat\", 'r',encoding='ISO-8859-1')    # opening file\n",
    "\n",
    "data = fh.read()                  # reading and storing movies data\n",
    "\n"
   ]
  },
  {
   "cell_type": "markdown",
   "metadata": {},
   "source": [
    "#### (a)"
   ]
  },
  {
   "cell_type": "code",
   "execution_count": null,
   "metadata": {
    "collapsed": true
   },
   "outputs": [],
   "source": [
    "splitdata = data.split('::')        # spliting based on ::\n",
    "\n",
    "for i in splitdata:\n",
    "    \n",
    "    if i[-5:-1] == '1995':     # filtering 1995 movies\n",
    "        print(i)  \n"
   ]
  },
  {
   "cell_type": "markdown",
   "metadata": {},
   "source": [
    "#### (b)"
   ]
  },
  {
   "cell_type": "code",
   "execution_count": null,
   "metadata": {
    "collapsed": true
   },
   "outputs": [],
   "source": [
    "newline = data.split('\\n')\n",
    "\n",
    "final = []                  # Empty list to contain years\n",
    " \n",
    "for i in newline:\n",
    "    if i > '0':\n",
    "        final.append(i.split('::')[1][-5:-1])\n",
    "\n",
    "dict1 = {}                         # empty dictionary to year and movie count\n",
    "\n",
    "for k in final:\n",
    "        dict1.update({k:final.count(k)})       # year as key and no. of movies as value\n",
    "\n",
    "dict1"
   ]
  },
  {
   "cell_type": "markdown",
   "metadata": {},
   "source": [
    "#### (c) "
   ]
  },
  {
   "cell_type": "code",
   "execution_count": null,
   "metadata": {
    "collapsed": true
   },
   "outputs": [],
   "source": [
    "count = 0\n",
    "\n",
    "for i in newline:\n",
    "    \n",
    "    if 'Animation' in i:\n",
    "        count = count + 1\n",
    "        \n",
    "print(count)        "
   ]
  },
  {
   "cell_type": "markdown",
   "metadata": {},
   "source": [
    "#### (d)"
   ]
  },
  {
   "cell_type": "code",
   "execution_count": null,
   "metadata": {
    "collapsed": true
   },
   "outputs": [],
   "source": [
    "for i in newline:\n",
    "    \n",
    "    if 'Horror' in i:\n",
    "        \n",
    "        if i.split('::')[1][0] == 'D'or i.split('::')[1][0] == 'J' :\n",
    "            print(i.split('::')[1])\n"
   ]
  },
  {
   "cell_type": "markdown",
   "metadata": {},
   "source": [
    "#### (e) "
   ]
  },
  {
   "cell_type": "code",
   "execution_count": null,
   "metadata": {
    "collapsed": true
   },
   "outputs": [],
   "source": [
    "count = 0\n",
    "\n",
    "for i in newline:\n",
    "    \n",
    "    if 'Action' in i:\n",
    "        \n",
    "        if i.split('::')[1][-5:-1] > '1991' and i.split('::')[1][-5:-1] < '1995':\n",
    "            count += 1\n",
    "        \n",
    "print(count)        "
   ]
  },
  {
   "cell_type": "markdown",
   "metadata": {},
   "source": [
    "#### (f)"
   ]
  },
  {
   "cell_type": "code",
   "execution_count": 56,
   "metadata": {
    "collapsed": true
   },
   "outputs": [],
   "source": [
    "fh2 = open(\"./ml-1m/ratings.dat\", 'r',encoding='ISO-8859-1')\n",
    "fh3 = open(\"./ml-1m/users.dat\", 'r',encoding='ISO-8859-1')\n",
    "\n",
    "data2 = fh2.read()                         # read the ratings file\n",
    "data3 = fh3.read()                         # read the users file"
   ]
  },
  {
   "cell_type": "code",
   "execution_count": 57,
   "metadata": {
    "collapsed": true
   },
   "outputs": [],
   "source": [
    "user = data3.split('\\n')     # splitting Users file by new line character\n",
    "\n",
    "rating = data2.split('\\n')     # splitting Ratings file by new line character"
   ]
  },
  {
   "cell_type": "code",
   "execution_count": 65,
   "metadata": {},
   "outputs": [
    {
     "data": {
      "text/plain": [
       "'Drama'"
      ]
     },
     "execution_count": 65,
     "metadata": {},
     "output_type": "execute_result"
    }
   ],
   "source": [
    "dol = []                       # Empty list for doctor and lawyer user ids\n",
    "\n",
    "for i in user:\n",
    "    \n",
    "    if i > '0':                    # ignoring the empty new line present at the end of data\n",
    "        \n",
    "        if i.split('::')[3] == '6' or i.split('::')[3] == '11':\n",
    "            dol.append(i.split('::')[0])                           \n",
    "        \n",
    "            \n",
    "mvID = []            # Empty list for movie ids rated 5 by users in dol\n",
    "\n",
    "for i in rating:\n",
    "    \n",
    "        if i.split('::')[0] in dol and i.split('::')[2] == '5':\n",
    "            mvID.append(i.split('::')[1])\n",
    "        \n",
    "mvGen = []                                  # Empty list for movie genre of movies rated 5\n",
    "\n",
    "for i in newline:\n",
    "    \n",
    "    if i > '0':\n",
    "        \n",
    "        if i.split('::')[0] in mvID:\n",
    "            mvGen.append(i.split('::')[2])\n",
    "        \n",
    "            \n",
    "\n",
    "        \n",
    "mvDic = {}              # Empty dictionary for storing fav genre and its count\n",
    "\n",
    "for i in mvGen:\n",
    "    mvDic.update({i:mvGen.count(i)})\n",
    "\n",
    "\n",
    "    \n",
    "max(mvDic,key=mvDic.get)         # Most Favourite Genre of doctors and lawyers "
   ]
  }
 ],
 "metadata": {
  "kernelspec": {
   "display_name": "Python 3",
   "language": "python",
   "name": "python3"
  },
  "language_info": {
   "codemirror_mode": {
    "name": "ipython",
    "version": 3
   },
   "file_extension": ".py",
   "mimetype": "text/x-python",
   "name": "python",
   "nbconvert_exporter": "python",
   "pygments_lexer": "ipython3",
   "version": "3.6.3"
  }
 },
 "nbformat": 4,
 "nbformat_minor": 2
}
